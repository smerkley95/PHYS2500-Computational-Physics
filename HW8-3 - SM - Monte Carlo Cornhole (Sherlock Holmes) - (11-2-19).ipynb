{
 "cells": [
  {
   "cell_type": "markdown",
   "metadata": {},
   "source": [
    "# Cornhole (Monte Carlo)\n",
    "### The purpose of this script is to find a winning toss using Monte Carlo methods"
   ]
  },
  {
   "cell_type": "code",
   "execution_count": 63,
   "metadata": {},
   "outputs": [],
   "source": [
    "import numpy as np\n",
    "import matplotlib.pyplot as plt\n",
    "from scipy.integrate import odeint"
   ]
  },
  {
   "cell_type": "markdown",
   "metadata": {},
   "source": [
    "### Linear Interpolation Routine"
   ]
  },
  {
   "cell_type": "code",
   "execution_count": 64,
   "metadata": {},
   "outputs": [],
   "source": [
    "def LinearInterp(x, x1, y1, x2, y2):\n",
    "    # Find y with x, and known points (x1, y1) and (x2, y2) \n",
    "    y = y1 + ((y2-y1)/(x2-x1))*(x-x1)\n",
    "    return y"
   ]
  },
  {
   "cell_type": "markdown",
   "metadata": {},
   "source": [
    "### Acceleration Function"
   ]
  },
  {
   "cell_type": "code",
   "execution_count": 65,
   "metadata": {},
   "outputs": [],
   "source": [
    "def Find_CornHole_Derivs_for_Solver(s, t):\n",
    "    # This function accepts a state (s) and time (t)\n",
    "    # The state input breaks down into:\n",
    "    # s[0] is position-x (r_x)\n",
    "    # s[1] is position-y (r_y)\n",
    "    # s[2] is velocity-x (v_x)\n",
    "    # s[3] is velocity-y (v_y)\n",
    "    # The function returns the state derivatives\n",
    "    #   return[0] is dr/dt-x (v_x)\n",
    "    #   return[1] is dr/dt-y (v_y)\n",
    "    #   return[2] is dv/dt-x (a_x)\n",
    "    #   return[3] is dv/dt-y (a_y)\n",
    "    vx_now, vy_now = s[2], s[3]\n",
    "    v_now = np.array([vx_now, vy_now])\n",
    "    ax_now = -k * np.linalg.norm(v_now)*vx_now + a0[0]\n",
    "    ay_now = -k * np.linalg.norm(v_now)*vy_now + a0[1]\n",
    "    return np.array([vx_now, vy_now, ax_now, ay_now])"
   ]
  },
  {
   "cell_type": "markdown",
   "metadata": {},
   "source": [
    "### Solver for Throw"
   ]
  },
  {
   "cell_type": "code",
   "execution_count": 77,
   "metadata": {},
   "outputs": [],
   "source": [
    "def CornholeToss(r_start, v_start, theta_start):\n",
    "\n",
    "    t = np.linspace(t_start, t_end, N)\n",
    "    v0 = v_start * np.array([np.cos(theta_start * np.pi/180.0), np.sin(theta_start * np.pi/180.0)])  # m/s\n",
    "    r0 = np.array([0.0, r_start])  # m\n",
    "    \n",
    "    s0 = np.array([r0[0], r0[1], v0[0], v0[1]])  # Initial state\n",
    "    s_solver = odeint(Find_CornHole_Derivs_for_Solver, s0, t)\n",
    "\n",
    "#     r_solver = np.vstack([s_solver[:, 0], s_solver[:, 1]]).T\n",
    "#     v_solver = np.vstack([s_solver[:, 2], s_solver[:, 3]]).T\n",
    "    \n",
    "    # Determine the closest point to the hole:\n",
    "    x_hole_midpoint = hole_midpoint[0]\n",
    "    y_hole_midpoint = hole_midpoint[1]\n",
    "    \n",
    "#     dist = np.sqrt((s_solver[:,0] - x_hole_midpoint)**2 + (s_solver[:,1] - y_hole_midpoint)**2)\n",
    "    dist = 2.0\n",
    "    Closest_Index = dist.argmin()    \n",
    "    Closest_Point = dist[Closest_Index]        \n",
    "    \n",
    "    return Closest_Point, Closest_Index, r_solver, v_solver"
   ]
  },
  {
   "cell_type": "code",
   "execution_count": 86,
   "metadata": {},
   "outputs": [],
   "source": [
    "def CornholeToss2(r_start, v_start, theta_start):\n",
    "\n",
    "    t = np.linspace(t_start, t_end, N-5)\n",
    "    v0 = v_start * np.array([np.cos(theta_start * np.pi/180.0), np.sin(theta_start * np.pi/180.0)])  # m/s\n",
    "    r0 = np.array([0.0, r_start])  # m\n",
    "    \n",
    "    s0 = np.array([r0[0], r0[1], v0[0], v0[1]])  # Initial state\n",
    "    s_solver = odeint(Find_CornHole_Derivs_for_Solver, s0, t)\n",
    "    \n",
    "    return 0"
   ]
  },
  {
   "cell_type": "markdown",
   "metadata": {},
   "source": [
    "### Cornhole game specifics"
   ]
  },
  {
   "cell_type": "code",
   "execution_count": 78,
   "metadata": {},
   "outputs": [],
   "source": [
    "# Cornhole target specifics\n",
    "cornhole_distance = 9.144  # (m) Pitch distance (30 ft)\n",
    "cornhole_radius = 0.1524/2  # (m) 6/2 inch hole\n",
    "cornhole_height = 0.2667  # (m) 10.5 inches - The angle of the board is 9.6 degrees\n",
    "cornhole_target = np.array([cornhole_distance, cornhole_height])\n",
    "target_ll = np.array([cornhole_distance - cornhole_radius*np.cos(9.6*np.pi/180.0), cornhole_height - cornhole_radius*np.sin(9.6*np.pi/180.0)])\n",
    "target_ur = np.array([cornhole_distance + cornhole_radius*np.cos(9.6*np.pi/180.0), cornhole_height + cornhole_radius*np.sin(9.6*np.pi/180.0)])\n",
    "mc = (target_ur[1] - target_ll[1])/(target_ur[0] - target_ll[0])\n",
    "\n",
    "# Midpoint of the hole:\n",
    "hole_midpoint = (target_ll + target_ur)/2\n",
    "\n",
    "# Cornhole bag specifics\n",
    "r_object = 0.1524  # m - Cornhole bean bags are 6in square and they are \n",
    "m_object = 0.449  # (kg) 15.85 oz bean bag\n",
    "\n",
    "x_annoying_spectator_position, y_annoying_spectator_position = 4.572, 1.829"
   ]
  },
  {
   "cell_type": "markdown",
   "metadata": {},
   "source": [
    "### Initialize Variables"
   ]
  },
  {
   "cell_type": "code",
   "execution_count": 79,
   "metadata": {},
   "outputs": [],
   "source": [
    "v_min = 3.0  # [m/s]\n",
    "v_spread = 10.0  # [m/s]\n",
    "\n",
    "theta_min = 10  # [degrees]\n",
    "theta_spread = 50  # [degrees]\n",
    "\n",
    "g = 9.8\n",
    "a0 = np.array([0.0, -g])  # m/s^2"
   ]
  },
  {
   "cell_type": "markdown",
   "metadata": {},
   "source": [
    "### Calculate maximum total time in flight with no air resistance"
   ]
  },
  {
   "cell_type": "code",
   "execution_count": 80,
   "metadata": {},
   "outputs": [
    {
     "name": "stdout",
     "output_type": "stream",
     "text": [
      "The max time without air resistance for this maximum vertical speed is approximately 2.65 seconds.\n",
      "The max height without air resistance for this maximum vertical speed is approximately 8.62 meters.\n"
     ]
    }
   ],
   "source": [
    "total_time = 2 * (v_min + v_spread) / g\n",
    "est_time = int(total_time + 1)\n",
    "print(f'The max time without air resistance for this maximum vertical speed is approximately {total_time:.2f} seconds.')\n",
    "\n",
    "y_max = ((v_min + v_spread)**2)/(2*g)\n",
    "print(f'The max height without air resistance for this maximum vertical speed is approximately {y_max:.2f} meters.')"
   ]
  },
  {
   "cell_type": "markdown",
   "metadata": {},
   "source": [
    "### Set up time parameters"
   ]
  },
  {
   "cell_type": "code",
   "execution_count": 81,
   "metadata": {},
   "outputs": [],
   "source": [
    "t_start = 0.0  # [s]\n",
    "t_end = est_time  # [s]\n",
    "dt = 0.1"
   ]
  },
  {
   "cell_type": "markdown",
   "metadata": {},
   "source": [
    "### Determine the number of bins"
   ]
  },
  {
   "cell_type": "code",
   "execution_count": 82,
   "metadata": {},
   "outputs": [
    {
     "name": "stdout",
     "output_type": "stream",
     "text": [
      "This will simulate from 0 to 3 seconds with a time spacing of 0.1000 seconds.\n",
      "This will require 31 bins (including 0).\n"
     ]
    }
   ],
   "source": [
    "N = int((t_end-t_start)/dt + 1)\n",
    "print('This will simulate from %d to %d seconds with a time spacing of %0.4f seconds.' % (t_start, t_end, dt))\n",
    "print('This will require %d bins (including 0).' % N)"
   ]
  },
  {
   "cell_type": "markdown",
   "metadata": {},
   "source": [
    "### Air drag information"
   ]
  },
  {
   "cell_type": "code",
   "execution_count": 83,
   "metadata": {},
   "outputs": [],
   "source": [
    "C = 0.5  # Drag coefficient\n",
    "rho_air = 1.2  # kg/m^3\n",
    "k = (C * rho_air * r_object**2) / (2 * m_object)\n",
    "# k = 0.0"
   ]
  },
  {
   "cell_type": "markdown",
   "metadata": {},
   "source": [
    "### Get the no air resistance trajectory"
   ]
  },
  {
   "cell_type": "code",
   "execution_count": 84,
   "metadata": {},
   "outputs": [],
   "source": [
    "# t_real = np.linspace(t_start, t_end, N)\n",
    "# v_real = np.column_stack((v0[0] + a0[0]*t_real, v0[1] + a0[1]*t_real))\n",
    "# r_real = np.column_stack((r0[0] + v0[0]*t_real + 0.5*a0[0]*t_real**2, r0[1] + v0[1]*t_real + 0.5*a0[1]*t_real**2))"
   ]
  },
  {
   "cell_type": "markdown",
   "metadata": {},
   "source": [
    "### Using the ODE Solver"
   ]
  },
  {
   "cell_type": "code",
   "execution_count": 99,
   "metadata": {
    "scrolled": false
   },
   "outputs": [
    {
     "name": "stdout",
     "output_type": "stream",
     "text": [
      "0.2965975814074321\n",
      "4.2078282909863605\n",
      "50.951225514276125\n"
     ]
    },
    {
     "data": {
      "image/png": "[encoded data removed]",
      "text/plain": [
       "<Figure size 432x288 with 1 Axes>"
      ]
     },
     "metadata": {
      "needs_background": "light"
     },
     "output_type": "display_data"
    }
   ],
   "source": [
    "Counter = 0\n",
    "Max_Count = 1000\n",
    "\n",
    "dist = 10.0\n",
    "\n",
    "plt.figure('Position')\n",
    "plt.title('Position (odeint)')\n",
    "# plt.plot(r_real[:,0], r_real[:,1], 'r--', cornhole_distance, cornhole_height, 'r+')\n",
    "plt.plot(cornhole_distance, cornhole_height, 'r+')\n",
    "plt.plot([x_annoying_spectator_position, x_annoying_spectator_position], [0, y_annoying_spectator_position], 'k-')\n",
    "plt.xlabel('x (m)')\n",
    "plt.ylabel('y (m)')\n",
    "plt.xlim((0.0, 10.0))\n",
    "plt.ylim(0.0, y_max)\n",
    "\n",
    "#while(dist > cornhole_radius and Counter < Max_Count):\n",
    "Counter += 1\n",
    "\n",
    "v_initial = v_min + v_spread*np.random.rand(1)[0]\n",
    "theta = theta_min + theta_spread*np.random.rand(1)[0]\n",
    "\n",
    "print(np.random.rand(1)[0])\n",
    "print(v_initial)\n",
    "print(theta)\n",
    "\n",
    "#v_initial = 10.1\n",
    "#theta = 30.0\n",
    "\n",
    "dontcare = CornholeToss2(0.5, v_initial, theta)\n",
    "# print('Try Number %d:  Initial velocity: %0.2f with angle: %0.1f.  Closest Point: %0.2f m' % (Counter, v_initial, theta, dist))\n",
    "\n",
    "# plt.plot(r[:,0], r[:,1], 'b,', r[Closest_Index:0], r[Closest_Index:1], 'r+')\n",
    "# if(dist < cornhole_radius):\n",
    "#     plt.plot(r[:,0], r[:,1], 'g--', r[Closest_Index:0], r[Closest_Index:1], 'r+')\n",
    "#     print('I won!')\n",
    "#     #break\n",
    "\n",
    "# plt.show()"
   ]
  },
  {
   "cell_type": "code",
   "execution_count": null,
   "metadata": {},
   "outputs": [],
   "source": []
  },
  {
   "cell_type": "code",
   "execution_count": null,
   "metadata": {},
   "outputs": [],
   "source": []
  }
 ],
 "metadata": {
  "kernelspec": {
   "display_name": "Python 3",
   "language": "python",
   "name": "python3"
  },
  "language_info": {
   "codemirror_mode": {
    "name": "ipython",
    "version": 3
   },
   "file_extension": ".py",
   "mimetype": "text/x-python",
   "name": "python",
   "nbconvert_exporter": "python",
   "pygments_lexer": "ipython3",
   "version": "3.7.3"
  }
 },
 "nbformat": 4,
 "nbformat_minor": 2
}
