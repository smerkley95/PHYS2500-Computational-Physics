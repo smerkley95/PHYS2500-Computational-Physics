{
 "cells": [
  {
   "cell_type": "markdown",
   "metadata": {},
   "source": [
    "# Monte Carlo Volume"
   ]
  },
  {
   "cell_type": "code",
   "execution_count": 13,
   "metadata": {},
   "outputs": [],
   "source": [
    "import numpy as np\n",
    "import scipy as sp"
   ]
  },
  {
   "cell_type": "markdown",
   "metadata": {},
   "source": [
    "### Number of Points and Radius"
   ]
  },
  {
   "cell_type": "code",
   "execution_count": 14,
   "metadata": {},
   "outputs": [],
   "source": [
    "N = 100000\n",
    "\n",
    "Sphere_Radius = 1.0\n",
    "\n",
    "Cylinder_Radius = 0.5"
   ]
  },
  {
   "cell_type": "code",
   "execution_count": 15,
   "metadata": {},
   "outputs": [
    {
     "name": "stdout",
     "output_type": "stream",
     "text": [
      "There are 33893 points in the volume\n"
     ]
    }
   ],
   "source": [
    "VolumeCount = 0\n",
    "\n",
    "for i in range(0, N):\n",
    "    point = (Sphere_Radius*sp.rand(), Sphere_Radius*sp.rand(), Sphere_Radius*sp.rand())\n",
    "    \n",
    "    if (point[0]**2 + point[1]**2 + point[2]**2 < Cylinder_Radius**2 + 0.5):\n",
    "        VolumeCount += 1\n",
    "        \n",
    "IntegratedNumber = VolumeCount\n",
    "\n",
    "print(f'There are {IntegratedNumber} points in the volume')"
   ]
  },
  {
   "cell_type": "code",
   "execution_count": 16,
   "metadata": {},
   "outputs": [],
   "source": [
    "Volume = 4 * IntegratedNumber/N * Cylinder_Radius**2\n",
    "\n",
    "# Multiply by four because you are using one quadrant and the cylinder is in 4 of the quadrants. Two upper, two lower."
   ]
  },
  {
   "cell_type": "code",
   "execution_count": 17,
   "metadata": {},
   "outputs": [
    {
     "name": "stdout",
     "output_type": "stream",
     "text": [
      "The volume of the intesecting sphere and cylinder is 0.33893.\n"
     ]
    }
   ],
   "source": [
    "print(f'The volume of the intesecting sphere and cylinder is {Volume}.')"
   ]
  },
  {
   "cell_type": "code",
   "execution_count": null,
   "metadata": {},
   "outputs": [],
   "source": []
  }
 ],
 "metadata": {
  "kernelspec": {
   "display_name": "Python 3",
   "language": "python",
   "name": "python3"
  },
  "language_info": {
   "codemirror_mode": {
    "name": "ipython",
    "version": 3
   },
   "file_extension": ".py",
   "mimetype": "text/x-python",
   "name": "python",
   "nbconvert_exporter": "python",
   "pygments_lexer": "ipython3",
   "version": "3.7.3"
  }
 },
 "nbformat": 4,
 "nbformat_minor": 2
}
