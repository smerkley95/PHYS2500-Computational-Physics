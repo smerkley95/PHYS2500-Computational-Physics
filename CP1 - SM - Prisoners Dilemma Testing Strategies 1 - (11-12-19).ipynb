{
 "cells": [
  {
   "cell_type": "markdown",
   "metadata": {},
   "source": [
    "# Prisoner's Dilemma"
   ]
  },
  {
   "cell_type": "code",
   "execution_count": 1,
   "metadata": {},
   "outputs": [],
   "source": [
    "import matplotlib.pyplot as plt\n",
    "import numpy as np\n",
    "import scipy as sp\n",
    "from random import choice\n",
    "import random"
   ]
  },
  {
   "cell_type": "code",
   "execution_count": 2,
   "metadata": {},
   "outputs": [],
   "source": [
    "# 1 = Collude\n",
    "# 0 = Defect"
   ]
  },
  {
   "cell_type": "markdown",
   "metadata": {},
   "source": [
    "### Player Choices"
   ]
  },
  {
   "cell_type": "code",
   "execution_count": 3,
   "metadata": {},
   "outputs": [],
   "source": [
    "def Player(Name):\n",
    "    if (Name == 'Random_1'): # Random_1\n",
    "        if sp.randn() >= 0.5:\n",
    "            next_choice = 0\n",
    "            \n",
    "        else:\n",
    "            next_choice = 1\n",
    "        \n",
    "    if (Name == 'Random_2'): # Random_2\n",
    "        if sp.randn() >= 0.5:\n",
    "            next_choice = 0\n",
    "            \n",
    "        else:\n",
    "            next_choice = 1\n",
    "            \n",
    "    if (Name == 'Tit for Tat'): # Tit for Tat\n",
    "        if 'Tit for Tat' == Player1:\n",
    "            if P2_Prev_Move[i-1] == 0:\n",
    "                next_choice = 0\n",
    "\n",
    "            if P2_Prev_Move[0]:\n",
    "                next_choice = 1\n",
    "            \n",
    "            else:\n",
    "                next_choice = 0\n",
    "            \n",
    "        if 'Tit for Tat' == Player2:\n",
    "            if P1_Prev_Move[i-1] == 0:\n",
    "                next_choice = 0\n",
    "                \n",
    "            if P1_Prev_Move[0]:\n",
    "                next_choice = 1\n",
    "            \n",
    "            else:\n",
    "                next_choice = 1\n",
    "            \n",
    "    if (Name == 'Always Agree'): # Always Agree\n",
    "        next_choice = 1\n",
    "            \n",
    "    if (Name == 'Tat for Tit'):\n",
    "        if 'Tat for Tit' == Player1:\n",
    "            if P2_Prev_Move[i-1] == 1:\n",
    "                next_choice = 0\n",
    "\n",
    "            else:\n",
    "                next_choice = 1\n",
    "                \n",
    "        if 'Tat for Tit' == Player2:\n",
    "            if P1_Prev_Move[i-1] == 1:\n",
    "                next_choice = 0\n",
    "\n",
    "            else:\n",
    "                next_choice = 1\n",
    "                \n",
    "    if (Name == 'Always Deflect'):\n",
    "        next_choice = 0\n",
    "        \n",
    "    if (Name == 'Deflect Random'):\n",
    "        \n",
    "        if 'Deflect Random' == Player1:\n",
    "            if P2_Prev_Move[0]:\n",
    "                next_choice = 1\n",
    "                \n",
    "            if P2_Prev_Move[i-1] == 0:\n",
    "                next_choice = random.choice([0, 1])\n",
    "\n",
    "            else:\n",
    "                next_choice = 0\n",
    "                \n",
    "        if 'Deflect Random' == Player2:\n",
    "            if P1_Prev_Move[0]:\n",
    "                next_choice = 1\n",
    "                \n",
    "            if P1_Prev_Move[i-1] == 0:\n",
    "                next_choice = random.choice([0, 1])\n",
    "\n",
    "            else:\n",
    "                next_choice = 0\n",
    "            \n",
    "    if (Name == 'Tit for 2 Tats'):\n",
    "        if P1_Prev_Move[0] == 0 or P2_Prev_Move[0] == 0:\n",
    "            next_choice = 1\n",
    "            \n",
    "        if P1_Prev_Move[i-1] == 1 or P2_Prev_Move[i-1] == 1:\n",
    "            next_choice = 1\n",
    "            \n",
    "        if P1_Prev_Move[i-1] == 0 and P1_Prev_Move[i-2] == 0 or P2_Prev_Move[i-1] == 0 and P2_Prev_Move[i-2] == 0:\n",
    "            next_choice = 1\n",
    "            \n",
    "        else:\n",
    "            next_choice = 0\n",
    "            \n",
    "    if (Name == 'Deflect Every Third'):\n",
    "        if i % 3:\n",
    "            next_choice = 0\n",
    "            \n",
    "        else:\n",
    "            next_choice = 1\n",
    "            \n",
    "    if (Name == 'Pavlov'):\n",
    "        if 'Pavlov' == Player1:\n",
    "            if P2_Prev_Move[i-1] == 1:\n",
    "                next_choice = 1\n",
    "\n",
    "            else:\n",
    "                next_choice = choice([0, 1])\n",
    "                \n",
    "        if 'Pavlov' == Player2:\n",
    "            if P1_Prev_Move[i-1] == 1:\n",
    "                next_choice = 1\n",
    "\n",
    "            else:\n",
    "                next_choice = choice([0, 1])\n",
    "            \n",
    "    if (Name == 'Deflect Every Other'):\n",
    "        if 'Deflect Every Other' == Player1: \n",
    "            if i % 2:\n",
    "                next_choice = 0\n",
    "\n",
    "            else:\n",
    "                next_choice = 1\n",
    "            \n",
    "        if 'Deflect Every Other' == Player2:\n",
    "            if i % 2:\n",
    "                next_choice = 0\n",
    "\n",
    "            else:\n",
    "                next_choice = 1\n",
    "                \n",
    "    if (Name == 'Naive Prober'):\n",
    "        \n",
    "        probe = 1\n",
    "    \n",
    "        if 'Naive Prober' == Player1:\n",
    "            if P2_Prev_Move[i-1] == 0:\n",
    "                next_choice = 0\n",
    "\n",
    "            if np.abs(sp.randn()) >= probe:\n",
    "                next_choice = 0\n",
    "\n",
    "            else:\n",
    "                next_choice = 1\n",
    "                \n",
    "        if 'Naive Prober' == Player2:\n",
    "            if P1_Prev_Move[i-1] == 0:\n",
    "                next_choice = 0\n",
    "\n",
    "            if np.abs(sp.randn()) >= probe:\n",
    "                next_choice = 0\n",
    "\n",
    "            else:\n",
    "                next_choice = 1\n",
    "\n",
    "            \n",
    "    return next_choice"
   ]
  },
  {
   "cell_type": "markdown",
   "metadata": {},
   "source": [
    "### Strategies Specifics"
   ]
  },
  {
   "cell_type": "code",
   "execution_count": 4,
   "metadata": {},
   "outputs": [],
   "source": [
    "One = 'Random_1'\n",
    "Two = 'Random_2'\n",
    "Three = 'Tit for Tat'\n",
    "Four = 'Pavlov'\n",
    "Five = 'Always Deflect'\n",
    "Six = 'Always Agree'\n",
    "Seven = 'Deflect Every Third'\n",
    "Eight = 'Deflect Random'\n",
    "Nine = 'Deflect Every Other'\n",
    "Ten = 'Naive Prober'\n",
    "\n",
    "Number_Of_Strategies = 10\n",
    "\n",
    "PlayerList = [One, Two, Three, Four, Five, Six, Seven, Eight, Nine, Ten]"
   ]
  },
  {
   "cell_type": "markdown",
   "metadata": {},
   "source": [
    "### Choose Your Players"
   ]
  },
  {
   "cell_type": "code",
   "execution_count": 5,
   "metadata": {},
   "outputs": [
    {
     "name": "stdout",
     "output_type": "stream",
     "text": [
      "Which strategies would you like as your players?\n",
      "\n",
      "Strategies List:\n",
      " One = Random_1\n",
      " Two = Random_2\n",
      " Three = Tit for Tat\n",
      " Four = Pavlov\n",
      " Five = Always Deflect\n",
      " Six = Always Agree\n",
      " Seven = Deflect Every Third\n",
      " Eight = Deflect Random\n",
      " Nine = Deflect Every Other\n",
      " Ten = Naive Prober\n",
      "\n",
      "Player 1 : Tit for Tat\n",
      "Player 2 : Random_1\n"
     ]
    }
   ],
   "source": [
    "print('Which strategies would you like as your players?\\n')\n",
    "\n",
    "print(f'Strategies List:\\n One = {One}\\n Two = {Two}\\n Three = {Three}\\n Four = {Four}\\n Five = {Five}\\n Six = {Six}\\n Seven = {Seven}\\n Eight = {Eight}\\n Nine = {Nine}\\n Ten = {Ten}')\n",
    "\n",
    "# Choose A Player\n",
    "Player1 = Three\n",
    "Player2 = One\n",
    "\n",
    "# Random Player Generator\n",
    "# Player1 = random.choice(PlayerList)\n",
    "# Player2 = random.choice(PlayerList)\n",
    "\n",
    "print(f'\\nPlayer 1 : {Player1}\\nPlayer 2 : {Player2}')"
   ]
  },
  {
   "cell_type": "markdown",
   "metadata": {},
   "source": [
    "### Run the Simulation"
   ]
  },
  {
   "cell_type": "code",
   "execution_count": 6,
   "metadata": {},
   "outputs": [],
   "source": [
    "# Counters\n",
    "\n",
    "Rounds = 100\n",
    "\n",
    "P1_Score = 0\n",
    "P2_Score = 0\n",
    "\n",
    "Winner1 = 0\n",
    "Winner2 = 0\n",
    "\n",
    "Begin_Games = 0\n",
    "Number_Of_Games = 100\n",
    "dGames = 1\n",
    "NGames = np.int(Number_Of_Games - Begin_Games/dGames)\n",
    "\n",
    "Winning_Percentage_1 = 0\n",
    "Winning_Percentage_2 = 0"
   ]
  },
  {
   "cell_type": "markdown",
   "metadata": {},
   "source": [
    "### Game Arrays"
   ]
  },
  {
   "cell_type": "code",
   "execution_count": 7,
   "metadata": {},
   "outputs": [],
   "source": [
    "P1_Prev_Move = np.zeros(Rounds)\n",
    "P2_Prev_Move = np.zeros(Rounds)\n",
    "\n",
    "Game_Score_1 = np.zeros(Number_Of_Games)\n",
    "Game_Score_2 = np.zeros(Number_Of_Games)\n",
    "\n",
    "Array_Of_Games = np.linspace(Begin_Games, Number_Of_Games, NGames)\n",
    "\n",
    "PlayerStats = np.zeros(Number_Of_Games)"
   ]
  },
  {
   "cell_type": "markdown",
   "metadata": {},
   "source": [
    "### Simulation"
   ]
  },
  {
   "cell_type": "code",
   "execution_count": 8,
   "metadata": {},
   "outputs": [
    {
     "name": "stdout",
     "output_type": "stream",
     "text": [
      "Tit for Tat won with a percentage of 61.0% out of 100 games with 100 rounds with an average score of 67.9.\n"
     ]
    }
   ],
   "source": [
    "# Simulation\n",
    "\n",
    "Winning_Percentage_1 = 0\n",
    "Winning_Percentage_2 = 0\n",
    "\n",
    "for j in range(0, Number_Of_Games):\n",
    "\n",
    "    P1_Score = 0\n",
    "    P2_Score = 0\n",
    "            \n",
    "    for i in range(0, Rounds):\n",
    "\n",
    "        P1_Move = Player(Player1) \n",
    "        P2_Move = Player(Player2)\n",
    "\n",
    "        if P1_Move == 1 and P2_Move == 1:\n",
    "            #print('Draw')\n",
    "            P1_Score += 1\n",
    "            P2_Score += 1\n",
    "\n",
    "        elif P1_Move == 1 and P2_Move == 0:\n",
    "            #print('Player 1 wins this round')\n",
    "            P1_Score += 2\n",
    "\n",
    "        elif P1_Move == 0 and P2_Move == 1:\n",
    "            #print('Player 2 wins this round')\n",
    "            P2_Score += 2\n",
    "\n",
    "        elif P1_Move == 0 and P2_Move == 0:\n",
    "            #print('Both defected and lost this round')\n",
    "            P1_Score -= 1\n",
    "            P2_Score -= 1\n",
    "\n",
    "        P1_Prev_Move[i] = P1_Move\n",
    "        P2_Prev_Move[i] = P2_Move\n",
    "\n",
    "    if P1_Score > P2_Score:\n",
    "        #print(f'Player 1 wins with a score of {P1_Score} over Player 2 score of {P2_Score}.')\n",
    "        Winner1 += 1\n",
    "        Game_Score_1[i] = P1_Score\n",
    "\n",
    "    elif P2_Score > P1_Score:\n",
    "        #print(f'Player 2 wins with a score of {P2_Score} over Player 1 score of {P1_Score}.')\n",
    "        Winner2 += 1\n",
    "        Game_Score_2[i] = P2_Score\n",
    "\n",
    "    elif P2_Score == P1_Score:\n",
    "        #print(f'Both players tied with a score of {P1_Score}.')\n",
    "        Winner1 += 1\n",
    "        Winner2 += 1\n",
    "        \n",
    "    Game_Score_1[j] = P1_Score\n",
    "    Game_Score_2[j] = P2_Score\n",
    "    \n",
    "#     PlayerStats[j] = np.array([Winner1, Winner2, Game_Score_1[j], Game_Score_2[j]])\n",
    "#     print(PlayerStats)\n",
    "              \n",
    "Winning_Percentage_1 = Winner1 / Number_Of_Games * 100\n",
    "Winning_Percentage_2 = Winner2 / Number_Of_Games * 100\n",
    "\n",
    "Average_Score_1 = np.average(Game_Score_1)\n",
    "Average_Score_2 = np.average(Game_Score_2)\n",
    "\n",
    "if Winner1 > Winner2:\n",
    "    print(f'{Player1} won with a percentage of {Winning_Percentage_1}% out of {Number_Of_Games} games with {Rounds} rounds with an average score of {Average_Score_1}.')\n",
    "          \n",
    "elif Winner2 > Winner1:\n",
    "    print(f'{Player2} won with a percentage of {Winning_Percentage_2}% out of {Number_Of_Games} games with {Rounds} rounds with an average score of {Average_Score_2}.')\n",
    "          \n",
    "elif Winner1 == Winner2:\n",
    "    print(f'{Player1} and {Player2} tied with a percentage of {Winning_Percentage_1}% out of {Number_Of_Games} games with {Rounds} rounds with an average score of {Average_Score_1}.')\n"
   ]
  },
  {
   "cell_type": "code",
   "execution_count": 9,
   "metadata": {},
   "outputs": [
    {
     "data": {
      "image/png": "[encoded data removed]",
      "text/plain": [
       "<Figure size 432x288 with 1 Axes>"
      ]
     },
     "metadata": {
      "needs_background": "light"
     },
     "output_type": "display_data"
    }
   ],
   "source": [
    "plt.title('Scores of Games')\n",
    "plt.xlabel('Number of Games')\n",
    "plt.ylabel('Scores')\n",
    "plt.plot(Array_Of_Games, Game_Score_1, 'b-', Array_Of_Games, Game_Score_2, 'r-');"
   ]
  },
  {
   "cell_type": "code",
   "execution_count": null,
   "metadata": {},
   "outputs": [],
   "source": []
  },
  {
   "cell_type": "code",
   "execution_count": null,
   "metadata": {},
   "outputs": [],
   "source": []
  }
 ],
 "metadata": {
  "kernelspec": {
   "display_name": "Python 3",
   "language": "python",
   "name": "python3"
  },
  "language_info": {
   "codemirror_mode": {
    "name": "ipython",
    "version": 3
   },
   "file_extension": ".py",
   "mimetype": "text/x-python",
   "name": "python",
   "nbconvert_exporter": "python",
   "pygments_lexer": "ipython3",
   "version": "3.7.3"
  }
 },
 "nbformat": 4,
 "nbformat_minor": 2
}
